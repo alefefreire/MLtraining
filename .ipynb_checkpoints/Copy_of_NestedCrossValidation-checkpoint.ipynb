{
 "cells": [
  {
   "cell_type": "code",
   "execution_count": 1,
   "metadata": {
    "colab": {},
    "colab_type": "code",
    "id": "qwHCADciMdHs"
   },
   "outputs": [],
   "source": [
    "from sklearn.datasets import load_breast_cancer\n",
    "data = load_breast_cancer()\n",
    "X,y = data.data,data.target"
   ]
  },
  {
   "cell_type": "code",
   "execution_count": 3,
   "metadata": {
    "colab": {},
    "colab_type": "code",
    "id": "KBeRiZpZMpqF"
   },
   "outputs": [],
   "source": [
    "from sklearn.model_selection import KFold\n",
    "from sklearn.metrics import f1_score\n",
    "class PerformanceEvaluator():\n",
    "  def __init__(self, X, y):\n",
    "    self.n_splits = 5\n",
    "    self.kf = KFold(n_splits=self.n_splits)\n",
    "    self.kf.get_n_splits(X)\n",
    "    self.X = X\n",
    "    self.y = y\n",
    "  def score(self, clf):\n",
    "    score = 0\n",
    "    f1_score_value = 0\n",
    "    for tr, te in self.kf.split(X):\n",
    "      clf.fit(self.X[tr],self.y[tr])\n",
    "      score += clf.score(self.X[te],self.y[te])\n",
    "      y_pred = clf.predict(self.X[te])\n",
    "      f1_score_value += f1_score(y_pred, self.y[te])\n",
    "      print(f1_score_value)\n",
    "    return f1_score_value/self.n_splits\n",
    "pe = PerformanceEvaluator(X,y)"
   ]
  },
  {
   "cell_type": "code",
   "execution_count": 0,
   "metadata": {
    "colab": {},
    "colab_type": "code",
    "id": "MBaM8EA_PHhb"
   },
   "outputs": [],
   "source": [
    "# import warnings filter\n",
    "from warnings import simplefilter\n",
    "# ignore all future warnings\n",
    "simplefilter(action='ignore', category=FutureWarning)"
   ]
  },
  {
   "cell_type": "code",
   "execution_count": 19,
   "metadata": {
    "colab": {
     "base_uri": "https://localhost:8080/",
     "height": 121
    },
    "colab_type": "code",
    "id": "ZeXpDu7gOGme",
    "outputId": "e1bf3479-8112-46ba-834f-7eb484980b67"
   },
   "outputs": [
    {
     "name": "stdout",
     "output_type": "stream",
     "text": [
      "0.9019607843137255\n",
      "1.8565062388591802\n",
      "2.836098075593874\n",
      "3.8183465963039334\n",
      "4.789106830222062\n",
      "0.9578213660444124\n"
     ]
    }
   ],
   "source": [
    "from sklearn.linear_model import LogisticRegression\n",
    "lr = LogisticRegression()\n",
    "print(pe.score(lr))"
   ]
  },
  {
   "cell_type": "code",
   "execution_count": 20,
   "metadata": {
    "colab": {
     "base_uri": "https://localhost:8080/",
     "height": 121
    },
    "colab_type": "code",
    "id": "l-fXox87PYkz",
    "outputId": "7c8bfc20-a6b4-4884-e2b1-11052f88d387"
   },
   "outputs": [
    {
     "name": "stdout",
     "output_type": "stream",
     "text": [
      "0.575\n",
      "1.3012569832402234\n",
      "2.088491025793415\n",
      "2.9427623825773344\n",
      "3.8127623825773345\n",
      "0.7625524765154669\n"
     ]
    }
   ],
   "source": [
    "from sklearn.svm import SVC\n",
    "svc = SVC()\n",
    "print(pe.score(svc))"
   ]
  },
  {
   "cell_type": "code",
   "execution_count": 21,
   "metadata": {
    "colab": {
     "base_uri": "https://localhost:8080/",
     "height": 121
    },
    "colab_type": "code",
    "id": "KHQ5Hz4jPt66",
    "outputId": "93c6e292-914e-4b2e-a7ff-ae64013d2922"
   },
   "outputs": [
    {
     "name": "stdout",
     "output_type": "stream",
     "text": [
      "0.9473684210526316\n",
      "1.9165991902834008\n",
      "2.8967316406145267\n",
      "3.890814480851213\n",
      "4.87327062120209\n",
      "0.9746541242404181\n"
     ]
    }
   ],
   "source": [
    "from sklearn.preprocessing import StandardScaler\n",
    "from sklearn.pipeline import Pipeline\n",
    "svc = Pipeline([\n",
    "    ('scaler', StandardScaler()),\n",
    "    ('svm', SVC())\n",
    "])\n",
    "print(pe.score(svc))"
   ]
  },
  {
   "cell_type": "code",
   "execution_count": 22,
   "metadata": {
    "colab": {
     "base_uri": "https://localhost:8080/",
     "height": 381
    },
    "colab_type": "code",
    "id": "cNACleYoQlAB",
    "outputId": "54cbb105-608d-4d6e-e51b-f472d05c4d59"
   },
   "outputs": [
    {
     "name": "stdout",
     "output_type": "stream",
     "text": [
      "Fitting 3 folds for each of 4 candidates, totalling 12 fits\n",
      "0.9473684210526316\n",
      "Fitting 3 folds for each of 4 candidates, totalling 12 fits\n",
      "1.9025923016496464\n",
      "Fitting 3 folds for each of 4 candidates, totalling 12 fits\n"
     ]
    },
    {
     "name": "stderr",
     "output_type": "stream",
     "text": [
      "[Parallel(n_jobs=1)]: Using backend SequentialBackend with 1 concurrent workers.\n",
      "[Parallel(n_jobs=1)]: Done  12 out of  12 | elapsed:    0.1s finished\n",
      "[Parallel(n_jobs=1)]: Using backend SequentialBackend with 1 concurrent workers.\n",
      "[Parallel(n_jobs=1)]: Done  12 out of  12 | elapsed:    0.1s finished\n",
      "[Parallel(n_jobs=1)]: Using backend SequentialBackend with 1 concurrent workers.\n"
     ]
    },
    {
     "name": "stdout",
     "output_type": "stream",
     "text": [
      "2.8892589683163132\n",
      "Fitting 3 folds for each of 4 candidates, totalling 12 fits\n",
      "3.8833418085529994\n",
      "Fitting 3 folds for each of 4 candidates, totalling 12 fits\n",
      "4.865797948903877\n",
      "0.9731595897807754\n"
     ]
    },
    {
     "name": "stderr",
     "output_type": "stream",
     "text": [
      "[Parallel(n_jobs=1)]: Done  12 out of  12 | elapsed:    0.1s finished\n",
      "[Parallel(n_jobs=1)]: Using backend SequentialBackend with 1 concurrent workers.\n",
      "[Parallel(n_jobs=1)]: Done  12 out of  12 | elapsed:    0.1s finished\n",
      "[Parallel(n_jobs=1)]: Using backend SequentialBackend with 1 concurrent workers.\n",
      "[Parallel(n_jobs=1)]: Done  12 out of  12 | elapsed:    0.1s finished\n"
     ]
    }
   ],
   "source": [
    "from sklearn.model_selection import GridSearchCV\n",
    "params =  {\n",
    "    'svm__kernel':('linear', 'rbf'),\n",
    "    'svm__C':[1, 10]\n",
    "}\n",
    "svc = GridSearchCV(\n",
    "    Pipeline([('scaler', StandardScaler()),('svm', SVC())]),\n",
    "    params, cv=3, verbose=True\n",
    ")\n",
    "print(pe.score(svc))"
   ]
  },
  {
   "cell_type": "code",
   "execution_count": 0,
   "metadata": {
    "colab": {},
    "colab_type": "code",
    "id": "iSycO4bZwUGk"
   },
   "outputs": [],
   "source": []
  }
 ],
 "metadata": {
  "colab": {
   "name": "Copy of NestedCrossValidation.ipynb",
   "provenance": []
  },
  "kernelspec": {
   "display_name": "Python 3",
   "language": "python",
   "name": "python3"
  },
  "language_info": {
   "codemirror_mode": {
    "name": "ipython",
    "version": 3
   },
   "file_extension": ".py",
   "mimetype": "text/x-python",
   "name": "python",
   "nbconvert_exporter": "python",
   "pygments_lexer": "ipython3",
   "version": "3.7.3"
  }
 },
 "nbformat": 4,
 "nbformat_minor": 1
}
