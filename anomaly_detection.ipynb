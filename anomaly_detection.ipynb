{
  "nbformat": 4,
  "nbformat_minor": 0,
  "metadata": {
    "kernelspec": {
      "name": "python3",
      "display_name": "Python 3"
    },
    "language_info": {
      "codemirror_mode": {
        "name": "ipython",
        "version": 3
      },
      "file_extension": ".py",
      "mimetype": "text/x-python",
      "name": "python",
      "nbconvert_exporter": "python",
      "pygments_lexer": "ipython3",
      "version": "3.7.3"
    },
    "colab": {
      "name": "anomaly_detection.ipynb",
      "provenance": [],
      "include_colab_link": true
    },
    "accelerator": "GPU"
  },
  "cells": [
    {
      "cell_type": "markdown",
      "metadata": {
        "id": "view-in-github",
        "colab_type": "text"
      },
      "source": [
        "<a href=\"https://colab.research.google.com/github/alefefreire/MLtraining/blob/master/anomaly_detection.ipynb\" target=\"_parent\"><img src=\"https://colab.research.google.com/assets/colab-badge.svg\" alt=\"Open In Colab\"/></a>"
      ]
    },
    {
      "cell_type": "code",
      "metadata": {
        "id": "TQDqlqglaUAd",
        "colab_type": "code",
        "colab": {
          "base_uri": "https://localhost:8080/",
          "height": 127
        },
        "outputId": "3b55af0f-94cb-4089-a9dd-68518cdb1840"
      },
      "source": [
        "from google.colab import drive\n",
        "drive.mount('/content/drive')"
      ],
      "execution_count": 1,
      "outputs": [
        {
          "output_type": "stream",
          "text": [
            "Go to this URL in a browser: https://accounts.google.com/o/oauth2/auth?client_id=947318989803-6bn6qk8qdgf4n4g3pfee6491hc0brc4i.apps.googleusercontent.com&redirect_uri=urn%3aietf%3awg%3aoauth%3a2.0%3aoob&response_type=code&scope=email%20https%3a%2f%2fwww.googleapis.com%2fauth%2fdocs.test%20https%3a%2f%2fwww.googleapis.com%2fauth%2fdrive%20https%3a%2f%2fwww.googleapis.com%2fauth%2fdrive.photos.readonly%20https%3a%2f%2fwww.googleapis.com%2fauth%2fpeopleapi.readonly\n",
            "\n",
            "Enter your authorization code:\n",
            "··········\n",
            "Mounted at /content/drive\n"
          ],
          "name": "stdout"
        }
      ]
    },
    {
      "cell_type": "code",
      "metadata": {
        "id": "54bsQPj7aCO3",
        "colab_type": "code",
        "colab": {}
      },
      "source": [
        "import pandas as pd\n",
        "import numpy as np\n",
        "import matplotlib.pyplot as plt\n",
        "\n",
        "path=r'/content/drive/My Drive/Data/'\n",
        "\n",
        "df=pd.read_csv(path+'machine_temperature_system_failure.csv')"
      ],
      "execution_count": 0,
      "outputs": []
    },
    {
      "cell_type": "code",
      "metadata": {
        "id": "xhsH5dsPaCO7",
        "colab_type": "code",
        "colab": {
          "base_uri": "https://localhost:8080/",
          "height": 204
        },
        "outputId": "01a1ff2c-8d1f-4cce-fe50-9b76f288b755"
      },
      "source": [
        "df.head()"
      ],
      "execution_count": 3,
      "outputs": [
        {
          "output_type": "execute_result",
          "data": {
            "text/html": [
              "<div>\n",
              "<style scoped>\n",
              "    .dataframe tbody tr th:only-of-type {\n",
              "        vertical-align: middle;\n",
              "    }\n",
              "\n",
              "    .dataframe tbody tr th {\n",
              "        vertical-align: top;\n",
              "    }\n",
              "\n",
              "    .dataframe thead th {\n",
              "        text-align: right;\n",
              "    }\n",
              "</style>\n",
              "<table border=\"1\" class=\"dataframe\">\n",
              "  <thead>\n",
              "    <tr style=\"text-align: right;\">\n",
              "      <th></th>\n",
              "      <th>timestamp</th>\n",
              "      <th>value</th>\n",
              "    </tr>\n",
              "  </thead>\n",
              "  <tbody>\n",
              "    <tr>\n",
              "      <th>0</th>\n",
              "      <td>2013-12-02 21:15:00</td>\n",
              "      <td>73.967322</td>\n",
              "    </tr>\n",
              "    <tr>\n",
              "      <th>1</th>\n",
              "      <td>2013-12-02 21:20:00</td>\n",
              "      <td>74.935882</td>\n",
              "    </tr>\n",
              "    <tr>\n",
              "      <th>2</th>\n",
              "      <td>2013-12-02 21:25:00</td>\n",
              "      <td>76.124162</td>\n",
              "    </tr>\n",
              "    <tr>\n",
              "      <th>3</th>\n",
              "      <td>2013-12-02 21:30:00</td>\n",
              "      <td>78.140707</td>\n",
              "    </tr>\n",
              "    <tr>\n",
              "      <th>4</th>\n",
              "      <td>2013-12-02 21:35:00</td>\n",
              "      <td>79.329836</td>\n",
              "    </tr>\n",
              "  </tbody>\n",
              "</table>\n",
              "</div>"
            ],
            "text/plain": [
              "             timestamp      value\n",
              "0  2013-12-02 21:15:00  73.967322\n",
              "1  2013-12-02 21:20:00  74.935882\n",
              "2  2013-12-02 21:25:00  76.124162\n",
              "3  2013-12-02 21:30:00  78.140707\n",
              "4  2013-12-02 21:35:00  79.329836"
            ]
          },
          "metadata": {
            "tags": []
          },
          "execution_count": 3
        }
      ]
    },
    {
      "cell_type": "code",
      "metadata": {
        "id": "YfpJ3RiSaCPA",
        "colab_type": "code",
        "colab": {
          "base_uri": "https://localhost:8080/",
          "height": 143
        },
        "outputId": "b39e453b-a1ed-4bc5-a534-9601ba7ea44c"
      },
      "source": [
        "df.info()"
      ],
      "execution_count": 4,
      "outputs": [
        {
          "output_type": "stream",
          "text": [
            "<class 'pandas.core.frame.DataFrame'>\n",
            "RangeIndex: 22695 entries, 0 to 22694\n",
            "Data columns (total 2 columns):\n",
            "timestamp    22695 non-null object\n",
            "value        22695 non-null float64\n",
            "dtypes: float64(1), object(1)\n",
            "memory usage: 354.7+ KB\n"
          ],
          "name": "stdout"
        }
      ]
    },
    {
      "cell_type": "code",
      "metadata": {
        "id": "gSg55pAJaCPC",
        "colab_type": "code",
        "colab": {}
      },
      "source": [
        "df.timestamp=pd.to_datetime(df.timestamp)\n",
        "df.value=df.value.astype(float)"
      ],
      "execution_count": 0,
      "outputs": []
    },
    {
      "cell_type": "code",
      "metadata": {
        "id": "zjNaFZ5iaCPF",
        "colab_type": "code",
        "colab": {
          "base_uri": "https://localhost:8080/",
          "height": 143
        },
        "outputId": "4f11dcbf-40fd-4a86-9812-9f415ab75c52"
      },
      "source": [
        "df.info()"
      ],
      "execution_count": 6,
      "outputs": [
        {
          "output_type": "stream",
          "text": [
            "<class 'pandas.core.frame.DataFrame'>\n",
            "RangeIndex: 22695 entries, 0 to 22694\n",
            "Data columns (total 2 columns):\n",
            "timestamp    22695 non-null datetime64[ns]\n",
            "value        22695 non-null float64\n",
            "dtypes: datetime64[ns](1), float64(1)\n",
            "memory usage: 354.7 KB\n"
          ],
          "name": "stdout"
        }
      ]
    },
    {
      "cell_type": "code",
      "metadata": {
        "id": "fns4YTDYaCPI",
        "colab_type": "code",
        "colab": {
          "base_uri": "https://localhost:8080/",
          "height": 303
        },
        "outputId": "5f62b49e-b355-4e40-fb1f-1ffc75fa7607"
      },
      "source": [
        "df.plot(x='timestamp',y='value')"
      ],
      "execution_count": 7,
      "outputs": [
        {
          "output_type": "execute_result",
          "data": {
            "text/plain": [
              "<matplotlib.axes._subplots.AxesSubplot at 0x7fd5300f62b0>"
            ]
          },
          "metadata": {
            "tags": []
          },
          "execution_count": 7
        },
        {
          "output_type": "display_data",
          "data": {
            "image/png": "[encoded data removed]",
            "text/plain": [
              "<Figure size 432x288 with 1 Axes>"
            ]
          },
          "metadata": {
            "tags": []
          }
        }
      ]
    },
    {
      "cell_type": "markdown",
      "metadata": {
        "id": "d7aV-y05aCPK",
        "colab_type": "text"
      },
      "source": [
        "# Featuring Enginering"
      ]
    },
    {
      "cell_type": "code",
      "metadata": {
        "id": "8GcghlkvaCPL",
        "colab_type": "code",
        "colab": {}
      },
      "source": [
        "# time with int to plot easily\n",
        "df['time_epoch'] = (df['timestamp'].astype(np.int64)/100000000000).astype(np.int64)\n",
        "#hour\n",
        "df['hours']=df['timestamp'].dt.hour\n",
        "#if it is during the day or the night\n",
        "df['daylight'] = ((df['hours'] >= 7) & (df['hours'] <= 22)).astype(int)\n",
        "# the day of the week (Monday=0, Sunday=6) and if it's a week end day or week day.\n",
        "df['DayOfTheWeek'] = df['timestamp'].dt.dayofweek\n",
        "df['WeekDay'] = (df['DayOfTheWeek'] < 5).astype(int)\n",
        "# An estimation of anomly population of the dataset (necessary for several algorithm)\n",
        "outliers_fraction = 0.01"
      ],
      "execution_count": 0,
      "outputs": []
    },
    {
      "cell_type": "code",
      "metadata": {
        "id": "Ksf0oqqoaCPN",
        "colab_type": "code",
        "colab": {
          "base_uri": "https://localhost:8080/",
          "height": 204
        },
        "outputId": "d716134e-a251-4612-fd25-6339e3a6f516"
      },
      "source": [
        "df.head()"
      ],
      "execution_count": 9,
      "outputs": [
        {
          "output_type": "execute_result",
          "data": {
            "text/html": [
              "<div>\n",
              "<style scoped>\n",
              "    .dataframe tbody tr th:only-of-type {\n",
              "        vertical-align: middle;\n",
              "    }\n",
              "\n",
              "    .dataframe tbody tr th {\n",
              "        vertical-align: top;\n",
              "    }\n",
              "\n",
              "    .dataframe thead th {\n",
              "        text-align: right;\n",
              "    }\n",
              "</style>\n",
              "<table border=\"1\" class=\"dataframe\">\n",
              "  <thead>\n",
              "    <tr style=\"text-align: right;\">\n",
              "      <th></th>\n",
              "      <th>timestamp</th>\n",
              "      <th>value</th>\n",
              "      <th>time_epoch</th>\n",
              "      <th>hours</th>\n",
              "      <th>daylight</th>\n",
              "      <th>DayOfTheWeek</th>\n",
              "      <th>WeekDay</th>\n",
              "    </tr>\n",
              "  </thead>\n",
              "  <tbody>\n",
              "    <tr>\n",
              "      <th>0</th>\n",
              "      <td>2013-12-02 21:15:00</td>\n",
              "      <td>73.967322</td>\n",
              "      <td>13860189</td>\n",
              "      <td>21</td>\n",
              "      <td>1</td>\n",
              "      <td>0</td>\n",
              "      <td>1</td>\n",
              "    </tr>\n",
              "    <tr>\n",
              "      <th>1</th>\n",
              "      <td>2013-12-02 21:20:00</td>\n",
              "      <td>74.935882</td>\n",
              "      <td>13860192</td>\n",
              "      <td>21</td>\n",
              "      <td>1</td>\n",
              "      <td>0</td>\n",
              "      <td>1</td>\n",
              "    </tr>\n",
              "    <tr>\n",
              "      <th>2</th>\n",
              "      <td>2013-12-02 21:25:00</td>\n",
              "      <td>76.124162</td>\n",
              "      <td>13860195</td>\n",
              "      <td>21</td>\n",
              "      <td>1</td>\n",
              "      <td>0</td>\n",
              "      <td>1</td>\n",
              "    </tr>\n",
              "    <tr>\n",
              "      <th>3</th>\n",
              "      <td>2013-12-02 21:30:00</td>\n",
              "      <td>78.140707</td>\n",
              "      <td>13860198</td>\n",
              "      <td>21</td>\n",
              "      <td>1</td>\n",
              "      <td>0</td>\n",
              "      <td>1</td>\n",
              "    </tr>\n",
              "    <tr>\n",
              "      <th>4</th>\n",
              "      <td>2013-12-02 21:35:00</td>\n",
              "      <td>79.329836</td>\n",
              "      <td>13860201</td>\n",
              "      <td>21</td>\n",
              "      <td>1</td>\n",
              "      <td>0</td>\n",
              "      <td>1</td>\n",
              "    </tr>\n",
              "  </tbody>\n",
              "</table>\n",
              "</div>"
            ],
            "text/plain": [
              "            timestamp      value  time_epoch  ...  daylight  DayOfTheWeek  WeekDay\n",
              "0 2013-12-02 21:15:00  73.967322    13860189  ...         1             0        1\n",
              "1 2013-12-02 21:20:00  74.935882    13860192  ...         1             0        1\n",
              "2 2013-12-02 21:25:00  76.124162    13860195  ...         1             0        1\n",
              "3 2013-12-02 21:30:00  78.140707    13860198  ...         1             0        1\n",
              "4 2013-12-02 21:35:00  79.329836    13860201  ...         1             0        1\n",
              "\n",
              "[5 rows x 7 columns]"
            ]
          },
          "metadata": {
            "tags": []
          },
          "execution_count": 9
        }
      ]
    },
    {
      "cell_type": "code",
      "metadata": {
        "id": "ghCXQXYja3zF",
        "colab_type": "code",
        "colab": {}
      },
      "source": [
        "df_copy=df.copy()"
      ],
      "execution_count": 0,
      "outputs": []
    },
    {
      "cell_type": "markdown",
      "metadata": {
        "id": "gAr5DalsaCPP",
        "colab_type": "text"
      },
      "source": [
        "# Anomaly detection"
      ]
    },
    {
      "cell_type": "markdown",
      "metadata": {
        "id": "U5P8ngK8aCPP",
        "colab_type": "text"
      },
      "source": [
        "## Isolation Forest"
      ]
    },
    {
      "cell_type": "code",
      "metadata": {
        "id": "3Volu-Y6aCPQ",
        "colab_type": "code",
        "colab": {}
      },
      "source": [
        "from sklearn.preprocessing import StandardScaler\n",
        "from sklearn.ensemble import IsolationForest\n",
        "from sklearn.pipeline import Pipeline\n",
        "\n",
        "#pipeline\n",
        "pip=Pipeline([('std',StandardScaler()),('Iso_forest',IsolationForest(contamination=outliers_fraction))])\n"
      ],
      "execution_count": 0,
      "outputs": []
    },
    {
      "cell_type": "code",
      "metadata": {
        "id": "DDxfYtdsaCPT",
        "colab_type": "code",
        "colab": {
          "base_uri": "https://localhost:8080/",
          "height": 197
        },
        "outputId": "7fa3cc57-06e2-4b47-f46e-1b2796584e3f"
      },
      "source": [
        "pip.fit(df[['value', 'hours', 'daylight', 'DayOfTheWeek', 'WeekDay']].values.reshape(-1,1))"
      ],
      "execution_count": 12,
      "outputs": [
        {
          "output_type": "execute_result",
          "data": {
            "text/plain": [
              "Pipeline(memory=None,\n",
              "         steps=[('std',\n",
              "                 StandardScaler(copy=True, with_mean=True, with_std=True)),\n",
              "                ('Iso_forest',\n",
              "                 IsolationForest(behaviour='deprecated', bootstrap=False,\n",
              "                                 contamination=0.01, max_features=1.0,\n",
              "                                 max_samples='auto', n_estimators=100,\n",
              "                                 n_jobs=None, random_state=None, verbose=0,\n",
              "                                 warm_start=False))],\n",
              "         verbose=False)"
            ]
          },
          "metadata": {
            "tags": []
          },
          "execution_count": 12
        }
      ]
    },
    {
      "cell_type": "code",
      "metadata": {
        "id": "cBKIYEdraCPV",
        "colab_type": "code",
        "colab": {}
      },
      "source": [
        "df['anomaly'] = pd.Series(pip.predict(df['value'].values.reshape(-1,1)))\n",
        "df['anomaly']=df['anomaly'].map({1:0,-1:1})# anomaly==1"
      ],
      "execution_count": 0,
      "outputs": []
    },
    {
      "cell_type": "code",
      "metadata": {
        "id": "94nS7OsfaCPZ",
        "colab_type": "code",
        "colab": {
          "base_uri": "https://localhost:8080/",
          "height": 71
        },
        "outputId": "4e569fef-4501-441d-ddab-f6d7e03b552e"
      },
      "source": [
        "#number of anomalies\n",
        "df['anomaly'].value_counts()"
      ],
      "execution_count": 14,
      "outputs": [
        {
          "output_type": "execute_result",
          "data": {
            "text/plain": [
              "0    21578\n",
              "1     1117\n",
              "Name: anomaly, dtype: int64"
            ]
          },
          "metadata": {
            "tags": []
          },
          "execution_count": 14
        }
      ]
    },
    {
      "cell_type": "code",
      "metadata": {
        "id": "T8Re6xgPaCPc",
        "colab_type": "code",
        "colab": {
          "base_uri": "https://localhost:8080/",
          "height": 204
        },
        "outputId": "172145a5-5faf-4259-f203-e123c63cdbc3"
      },
      "source": [
        "df.head()"
      ],
      "execution_count": 15,
      "outputs": [
        {
          "output_type": "execute_result",
          "data": {
            "text/html": [
              "<div>\n",
              "<style scoped>\n",
              "    .dataframe tbody tr th:only-of-type {\n",
              "        vertical-align: middle;\n",
              "    }\n",
              "\n",
              "    .dataframe tbody tr th {\n",
              "        vertical-align: top;\n",
              "    }\n",
              "\n",
              "    .dataframe thead th {\n",
              "        text-align: right;\n",
              "    }\n",
              "</style>\n",
              "<table border=\"1\" class=\"dataframe\">\n",
              "  <thead>\n",
              "    <tr style=\"text-align: right;\">\n",
              "      <th></th>\n",
              "      <th>timestamp</th>\n",
              "      <th>value</th>\n",
              "      <th>time_epoch</th>\n",
              "      <th>hours</th>\n",
              "      <th>daylight</th>\n",
              "      <th>DayOfTheWeek</th>\n",
              "      <th>WeekDay</th>\n",
              "      <th>anomaly</th>\n",
              "    </tr>\n",
              "  </thead>\n",
              "  <tbody>\n",
              "    <tr>\n",
              "      <th>0</th>\n",
              "      <td>2013-12-02 21:15:00</td>\n",
              "      <td>73.967322</td>\n",
              "      <td>13860189</td>\n",
              "      <td>21</td>\n",
              "      <td>1</td>\n",
              "      <td>0</td>\n",
              "      <td>1</td>\n",
              "      <td>0</td>\n",
              "    </tr>\n",
              "    <tr>\n",
              "      <th>1</th>\n",
              "      <td>2013-12-02 21:20:00</td>\n",
              "      <td>74.935882</td>\n",
              "      <td>13860192</td>\n",
              "      <td>21</td>\n",
              "      <td>1</td>\n",
              "      <td>0</td>\n",
              "      <td>1</td>\n",
              "      <td>0</td>\n",
              "    </tr>\n",
              "    <tr>\n",
              "      <th>2</th>\n",
              "      <td>2013-12-02 21:25:00</td>\n",
              "      <td>76.124162</td>\n",
              "      <td>13860195</td>\n",
              "      <td>21</td>\n",
              "      <td>1</td>\n",
              "      <td>0</td>\n",
              "      <td>1</td>\n",
              "      <td>0</td>\n",
              "    </tr>\n",
              "    <tr>\n",
              "      <th>3</th>\n",
              "      <td>2013-12-02 21:30:00</td>\n",
              "      <td>78.140707</td>\n",
              "      <td>13860198</td>\n",
              "      <td>21</td>\n",
              "      <td>1</td>\n",
              "      <td>0</td>\n",
              "      <td>1</td>\n",
              "      <td>0</td>\n",
              "    </tr>\n",
              "    <tr>\n",
              "      <th>4</th>\n",
              "      <td>2013-12-02 21:35:00</td>\n",
              "      <td>79.329836</td>\n",
              "      <td>13860201</td>\n",
              "      <td>21</td>\n",
              "      <td>1</td>\n",
              "      <td>0</td>\n",
              "      <td>1</td>\n",
              "      <td>0</td>\n",
              "    </tr>\n",
              "  </tbody>\n",
              "</table>\n",
              "</div>"
            ],
            "text/plain": [
              "            timestamp      value  time_epoch  ...  DayOfTheWeek  WeekDay  anomaly\n",
              "0 2013-12-02 21:15:00  73.967322    13860189  ...             0        1        0\n",
              "1 2013-12-02 21:20:00  74.935882    13860192  ...             0        1        0\n",
              "2 2013-12-02 21:25:00  76.124162    13860195  ...             0        1        0\n",
              "3 2013-12-02 21:30:00  78.140707    13860198  ...             0        1        0\n",
              "4 2013-12-02 21:35:00  79.329836    13860201  ...             0        1        0\n",
              "\n",
              "[5 rows x 8 columns]"
            ]
          },
          "metadata": {
            "tags": []
          },
          "execution_count": 15
        }
      ]
    },
    {
      "cell_type": "code",
      "metadata": {
        "id": "V0fC7SYKaCPg",
        "colab_type": "code",
        "colab": {
          "base_uri": "https://localhost:8080/",
          "height": 278
        },
        "outputId": "9122d2e3-6f41-4ef9-a559-fc957f090945"
      },
      "source": [
        "fig, ax = plt.subplots()\n",
        "\n",
        "a = df.loc[df['anomaly'] == 1, ['time_epoch', 'value']] #anomaly\n",
        "\n",
        "ax.plot(df['time_epoch'], df['value'], color='blue')\n",
        "ax.scatter(a['time_epoch'],a['value'], color='red')\n",
        "plt.show()"
      ],
      "execution_count": 16,
      "outputs": [
        {
          "output_type": "display_data",
          "data": {
            "image/png": "[encoded data removed]",
            "text/plain": [
              "<Figure size 432x288 with 1 Axes>"
            ]
          },
          "metadata": {
            "tags": []
          }
        }
      ]
    },
    {
      "cell_type": "markdown",
      "metadata": {
        "id": "s16tYwbybCIr",
        "colab_type": "text"
      },
      "source": [
        "## One Class SVM"
      ]
    },
    {
      "cell_type": "code",
      "metadata": {
        "id": "4X_RVOEObEod",
        "colab_type": "code",
        "colab": {}
      },
      "source": [
        "from sklearn.svm import OneClassSVM"
      ],
      "execution_count": 0,
      "outputs": []
    },
    {
      "cell_type": "code",
      "metadata": {
        "id": "r2Jl1yQiePqj",
        "colab_type": "code",
        "colab": {}
      },
      "source": [
        "#pipeline\n",
        "pip=Pipeline([('std',StandardScaler()),('one_SVM',OneClassSVM(nu=0.95 * outliers_fraction))])\n"
      ],
      "execution_count": 0,
      "outputs": []
    },
    {
      "cell_type": "code",
      "metadata": {
        "id": "tcK2tECvf0MW",
        "colab_type": "code",
        "colab": {}
      },
      "source": [
        "#Taking the original df\n",
        "df=df_copy"
      ],
      "execution_count": 0,
      "outputs": []
    },
    {
      "cell_type": "code",
      "metadata": {
        "id": "uu7yURFMfd1e",
        "colab_type": "code",
        "colab": {
          "base_uri": "https://localhost:8080/",
          "height": 161
        },
        "outputId": "799c18f2-9300-49fd-e423-15a65983de64"
      },
      "source": [
        "pip.fit(df[['value', 'hours', 'daylight', 'DayOfTheWeek', 'WeekDay']].values.reshape(-1,1))"
      ],
      "execution_count": 20,
      "outputs": [
        {
          "output_type": "execute_result",
          "data": {
            "text/plain": [
              "Pipeline(memory=None,\n",
              "         steps=[('std',\n",
              "                 StandardScaler(copy=True, with_mean=True, with_std=True)),\n",
              "                ('one_SVM',\n",
              "                 OneClassSVM(cache_size=200, coef0=0.0, degree=3, gamma='scale',\n",
              "                             kernel='rbf', max_iter=-1, nu=0.0095,\n",
              "                             shrinking=True, tol=0.001, verbose=False))],\n",
              "         verbose=False)"
            ]
          },
          "metadata": {
            "tags": []
          },
          "execution_count": 20
        }
      ]
    },
    {
      "cell_type": "code",
      "metadata": {
        "id": "AioWH90-etmZ",
        "colab_type": "code",
        "colab": {}
      },
      "source": [
        "df['anomaly'] = pd.Series(pip.predict(df['value'].values.reshape(-1,1)))\n",
        "df['anomaly']=df['anomaly'].map({1:0,-1:1})# anomaly==1"
      ],
      "execution_count": 0,
      "outputs": []
    },
    {
      "cell_type": "code",
      "metadata": {
        "id": "5NDft8j_fF4V",
        "colab_type": "code",
        "colab": {
          "base_uri": "https://localhost:8080/",
          "height": 71
        },
        "outputId": "889d20fd-621d-4f34-d945-437add4da408"
      },
      "source": [
        "#number of anomalies\n",
        "df['anomaly'].value_counts()"
      ],
      "execution_count": 24,
      "outputs": [
        {
          "output_type": "execute_result",
          "data": {
            "text/plain": [
              "0    21968\n",
              "1      727\n",
              "Name: anomaly, dtype: int64"
            ]
          },
          "metadata": {
            "tags": []
          },
          "execution_count": 24
        }
      ]
    },
    {
      "cell_type": "code",
      "metadata": {
        "id": "ANhGiS4LfGcK",
        "colab_type": "code",
        "colab": {
          "base_uri": "https://localhost:8080/",
          "height": 278
        },
        "outputId": "9ee55ec7-5689-48c1-e342-2c5adc2d70b0"
      },
      "source": [
        "fig, ax = plt.subplots()\n",
        "\n",
        "a = df.loc[df['anomaly'] == 1, ['time_epoch', 'value']] #anomaly\n",
        "\n",
        "ax.plot(df['time_epoch'], df['value'], color='blue')\n",
        "ax.scatter(a['time_epoch'],a['value'], color='red')\n",
        "plt.show()"
      ],
      "execution_count": 26,
      "outputs": [
        {
          "output_type": "display_data",
          "data": {
            "image/png": "[encoded data removed]",
            "text/plain": [
              "<Figure size 432x288 with 1 Axes>"
            ]
          },
          "metadata": {
            "tags": []
          }
        }
      ]
    },
    {
      "cell_type": "code",
      "metadata": {
        "id": "7x2WIaEGhAsr",
        "colab_type": "code",
        "colab": {}
      },
      "source": [
        ""
      ],
      "execution_count": 0,
      "outputs": []
    }
  ]
}